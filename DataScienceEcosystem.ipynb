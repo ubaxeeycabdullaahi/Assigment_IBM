{
 "cells": [
  {
   "cell_type": "markdown",
   "id": "891d4e3a-cdaf-43a8-b093-bdd01414f2dc",
   "metadata": {},
   "source": [
    "# Data Science Tools and Ecosystem"
   ]
  },
  {
   "cell_type": "markdown",
   "id": "77b2e310-33e0-466e-a241-7cb6efee3439",
   "metadata": {},
   "source": [
    "In this notebook, Data Science Tools and Ecosystem are summarized.\n"
   ]
  },
  {
   "cell_type": "markdown",
   "id": "f426068a-88bf-4252-bbbd-eb0b25f2baf5",
   "metadata": {},
   "source": [
    "Some of the popular languages that Data Scientists use are:\r\n",
    "\r\n",
    "1. Python\r\n",
    "2. R\r\n",
    "3. SQLing."
   ]
  },
  {
   "cell_type": "markdown",
   "id": "7e4af46a-fbf6-4891-b8d2-71e353b12755",
   "metadata": {},
   "source": [
    "Some of the popular languages that Data Scientists use are:\n",
    "\n",
    "1. Pandas\n",
    "2. NumPy\n",
    "3. Matplotlib\n",
    "4. Seaborn\n",
    "5. Scikitlearn\n",
    "\n"
   ]
  },
  {
   "cell_type": "markdown",
   "id": "0b2c894e-bd64-4636-bb26-9152dd8aada0",
   "metadata": {},
   "source": [
    "| Data Science Tools |\r\n",
    "|--------------------|\r\n",
    "| Jupyter Notebook   |\r\n",
    "| RStudio            |\r\n",
    "| Visual Studio Code |de"
   ]
  },
  {
   "cell_type": "markdown",
   "id": "be95825a-b682-49dc-ad59-7714c10b7e97",
   "metadata": {},
   "source": [
    "### Below are a few examples of evaluating arithmetic expressions in Python"
   ]
  },
  {
   "cell_type": "code",
   "execution_count": 37,
   "id": "50cf9933-079a-4fe7-bfb3-6b0daed2ee2c",
   "metadata": {},
   "outputs": [
    {
     "data": {
      "text/plain": [
       "17"
      ]
     },
     "execution_count": 37,
     "metadata": {},
     "output_type": "execute_result"
    }
   ],
   "source": [
    "# This is a simple arithmetic expression to multiply then add integers.\n",
    "(3 * 4) + 5"
   ]
  },
  {
   "cell_type": "code",
   "execution_count": 39,
   "id": "43ca46b5-9f99-4b0b-ae48-24708571357d",
   "metadata": {},
   "outputs": [
    {
     "data": {
      "text/plain": [
       "3.3333333333333335"
      ]
     },
     "execution_count": 39,
     "metadata": {},
     "output_type": "execute_result"
    }
   ],
   "source": [
    "# This will convert 200 minutes to hours by dividing by 60.\n",
    "200 / 60"
   ]
  },
  {
   "cell_type": "markdown",
   "id": "5f94ba95-05e2-4aee-98e6-0e7c640bf3fc",
   "metadata": {},
   "source": [
    "## **Objectives:**\n",
    "\n",
    "* **Create a new Jupyter notebook called DataScienceEcosystem.ipynb**\n",
    "* **List popular languages for Data Science.**\n",
    "* **Some of the commonly used libraries used by Data Scientists**\n",
    "* **list Data Science Tools.**\n",
    "* **Simple arithmetic.**\n"
   ]
  },
  {
   "cell_type": "markdown",
   "id": "11dbb08d-1c5b-4cf1-b771-e7a54700dd39",
   "metadata": {},
   "source": [
    "## Author\n",
    "Ubah"
   ]
  },
  {
   "cell_type": "code",
   "execution_count": null,
   "id": "822dbf3f-6a13-4e91-8649-eda2458d385f",
   "metadata": {},
   "outputs": [],
   "source": []
  }
 ],
 "metadata": {
  "kernelspec": {
   "display_name": "Python 3 (ipykernel)",
   "language": "python",
   "name": "python3"
  },
  "language_info": {
   "codemirror_mode": {
    "name": "ipython",
    "version": 3
   },
   "file_extension": ".py",
   "mimetype": "text/x-python",
   "name": "python",
   "nbconvert_exporter": "python",
   "pygments_lexer": "ipython3",
   "version": "3.12.4"
  }
 },
 "nbformat": 4,
 "nbformat_minor": 5
}
